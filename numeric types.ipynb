
"# Homework 01 - Numeric Types"
    "### What is the difference between a float and an int"
    "Float values have decimal part attached with them for example 1.01, 99.990, etc. While int values do not have fraction part for example 1, 9, etc. "
    "#### Answer\n",


     "### Make the output of the following line equal to 149 only by manipulating the order of operations"
      "#### Answer"


    "### Cause the following line to produce a float but still have the same result \n",
    "\n",
    "without using float(value)"
    "float(5 + 7)"
    "#### Answer"


    "### Make it so the below statement prints an int instead of a float "
    "a = 4.5 +7.5\n",
    "print(int(a))"
    "#### Answer"


    "### Fix the below code so you get the right result for a+b+c"
    "a = 4\n",
    "b = 10\n",
    "C = 5\n",
    "\n",
    "print(a+b+c)
    "#### Answer"


    "### Write code below to calculate the remainder after dividing 55 by 7 "
          a = 55
          b = 7
          print(a%b)
    "#### Answer"


    "### What is 2 raised to the 20th power?"
    print(2**20)
    #### Answer


    "### Correct the error to make the following line of code return false"
    "a = 'false'\n",
    "\n",
    "print(bool(not a))"
    "#### Answer"


    "### Without deleting anything, make the code return True"
     "4 >= 4"
    "#### Answer"


    "### By only changing one symbol, make the following code False"
    "17 >= 24"
    "#### Answer"


    "### Make the following code False by adding a not "
    "False or not True"
    "#### Answer"


    "### Make the following statement False by adding parentheses"
    " False and (not False or True and True)"
    "#### Answer"

    "### Change the string to make to boolean false"
    "bool('')"
    "#### Answer"


    "### Find the sum, using a function of 4, 8, 38, -8, 9"
    sum([4, 8, 38, -8. 9])
    ###Answer

    "### Determine the absolute value of 18-27 using a function"
        abs(18-27)
    ###Answer

    "### Find the minimum of 93, 27, 3.5, 19, 487 using a function (not predefined)"
    a = 93
    b = 27
    c = 3.5
    d = 19
    e = 487
    if(a<b):
        f = a
    else:
        f = b
    if(f<c):
        g = f
    else:
        g = c
    if(g<d):
        h = g
    else:
        h = d
     if(h<e):
        i = h
    else:
        i = e
    print(i)
    ###Answer


    "### Find the maximum of 238, 382, 82, 2 using a function"
    a = 238
    b = 382
    c = 82
    d = 500
    if(a>b):
        e = a
    else:
        e = b
    if(e>c):
        f = e
    else:
        f = c
    if(f>d):
        g = f
    else:
        g = d
    print(g)
    ###Answer

