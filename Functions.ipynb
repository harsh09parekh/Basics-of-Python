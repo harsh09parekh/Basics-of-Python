{
 "cells": [
  {
   "cell_type": "markdown",
   "metadata": {},
   "source": [
    "# Homework 07 - Introduction to Functions\n",
    "\n",
    "For each of the function problems below, maintain the name of both the functions and the arguments.  If you change either you will be marked down.\n",
    "\n",
    "You can add or change default values if you want though."
   ]
  },
  {
   "cell_type": "markdown",
   "metadata": {},
   "source": [
    "### Create a function, named my_add, that returns the sum of two numbers"
   ]
  },
  {
   "cell_type": "code",
   "execution_count": 6,
   "metadata": {},
   "outputs": [
    {
     "name": "stdout",
     "output_type": "stream",
     "text": [
      "Enter the first number: 10\n",
      "Enter the second number: 20\n"
     ]
    },
    {
     "data": {
      "text/plain": [
       "<function __main__.my_add(a, b)>"
      ]
     },
     "execution_count": 6,
     "metadata": {},
     "output_type": "execute_result"
    }
   ],
   "source": [
    "def my_add(a, b):\n",
    "    c = int(a)+int(b)\n",
    "    print(\"the sum of two number is\", c)\n",
    "\n",
    "a = input(\"Enter the first number: \")\n",
    "b = input(\"Enter the second number: \")\n",
    "\n",
    "my_add        "
   ]
  },
  {
   "cell_type": "markdown",
   "metadata": {},
   "source": [
    "### Create a function, called my_factorial, which returns the factorial of the provided number.\n",
    "\n",
    "https://en.wikipedia.org/wiki/Factorial"
   ]
  },
  {
   "cell_type": "code",
   "execution_count": 33,
   "metadata": {},
   "outputs": [
    {
     "name": "stdout",
     "output_type": "stream",
     "text": [
      "enter the number: 5\n",
      "1\n"
     ]
    }
   ],
   "source": [
    "def my_factorial(new_fact):\n",
    "    fact = input(\"enter the number: \")\n",
    "    fact = int(fact)\n",
    "    while (fact<=1):\n",
    "        new_fact = 1\n",
    "        new_fact = new_fact * (fact)\n",
    "        fact -= 1\n",
    "result = my_factorial(new_fact)\n",
    "print(new_fact)\n",
    "       "
   ]
  },
  {
   "cell_type": "markdown",
   "metadata": {},
   "source": [
    "### Create a function, named odd_or_even, that tells me if the provided integer is odd or even"
   ]
  },
  {
   "cell_type": "code",
   "execution_count": 32,
   "metadata": {},
   "outputs": [
    {
     "name": "stdout",
     "output_type": "stream",
     "text": [
      "Enter the number: 5\n",
      "the number is odd\n"
     ]
    }
   ],
   "source": [
    "def odd_or_even():\n",
    "    num = input(\"Enter the number: \")\n",
    "    num = int(num)\n",
    "    if (num%2==0):\n",
    "        print(\"the number is even\")\n",
    "    else:\n",
    "        print(\"the number is odd\")\n",
    "odd_or_even()        \n",
    "    "
   ]
  },
  {
   "cell_type": "markdown",
   "metadata": {},
   "source": [
    "### Create a function, named divisors, which tells me every number from 1 upto the original value that divides the original evenly\n",
    "\n",
    "For example, given 15 divisors should return the list [1,3,5,15]\n",
    "\n",
    "Given 1, divisors should return the list [1]\n",
    "\n",
    "Given 11, divisors should return the list [1,11]"
   ]
  },
  {
   "cell_type": "code",
   "execution_count": null,
   "metadata": {},
   "outputs": [],
   "source": [
    "def divisors():\n",
    "    num = input(\"enter a number: \")\n",
    "    num = int(num)\n",
    "    list = []\n",
    "    i = 1\n",
    "    while(i>=num):\n",
    "        if(num%i==0):\n",
    "            list.append(i)\n",
    "        print(list)\n",
    "divisors()    \n",
    "        "
   ]
  },
  {
   "cell_type": "markdown",
   "metadata": {},
   "source": [
    "### Create a function, named fibonacci, which returns a list of all the Fibonacci numbers less than the provided value\n",
    "\n",
    "For exampe, given 15, the returned list should be [1,1,2,3,5,8,13]\n",
    "\n",
    "https://en.wikipedia.org/wiki/Fibonacci_number"
   ]
  },
  {
   "cell_type": "code",
   "execution_count": null,
   "metadata": {},
   "outputs": [],
   "source": [
    "def fibonaaci():\n",
    "    n = input(\"Enter the number of terms: \")\n",
    "    n = int(n)\n",
    "    if (n<=0):\n",
    "        print(\"Enter positive values\")\n",
    "        n = input(\"Enter the number of terms: \")\n",
    "        n = int(n) \n",
    "    count = 0\n",
    "    a = 1\n",
    "    b = 1\n",
    "    list = []\n",
    "    list.append(a)\n",
    "    while(count<n-2):\n",
    "        list.append(b)\n",
    "        c = a + b\n",
    "        a = b\n",
    "        b = c\n",
    "        count = count + 1\n",
    "        print(list)\n",
    "fibonaaci()\n"
   ]
  },
  {
   "cell_type": "markdown",
   "metadata": {},
   "source": [
    "### Create a function, called palindrome, which tells me if the provided string is a palindrome (same forwards as backwards)\n",
    "\n",
    "Don't worry about puncuation\n",
    "\n",
    "http://examples.yourdictionary.com/palindrome-examples.html\n",
    "\n",
    "https://en.wikipedia.org/wiki/Palindrome"
   ]
  },
  {
   "cell_type": "code",
   "execution_count": null,
   "metadata": {},
   "outputs": [],
   "source": [
    "def palindrome():\n",
    "    x = input('Enter the string: ')\n",
    "    w = \"\" \n",
    "    for i in x: \n",
    "        w = i + w \n",
    "        if (x==w): \n",
    "            print(\"YES\") \n",
    "palindrome()            \n",
    "    "
   ]
  },
  {
   "cell_type": "markdown",
   "metadata": {},
   "source": [
    "### Write a function, called my_sort, which takes a list of numbers as input and returns the values sorted from smallest to largest\n",
    "\n",
    "Dont use any built in sort functions"
   ]
  },
  {
   "cell_type": "code",
   "execution_count": null,
   "metadata": {},
   "outputs": [],
   "source": [
    "def my_sort():\n",
    "    i = 1\n",
    "    x = []\n",
    "    while(i<=10):\n",
    "        y = input('Enter a number: ')\n",
    "        y = int(y)\n",
    "        x.append(y)\n",
    "        x = list(sort(x))\n",
    "        print(x)\n",
    "my_sort()        \n",
    "    "
   ]
  },
  {
   "cell_type": "markdown",
   "metadata": {},
   "source": [
    "### Create a function called my_power which raises the first number to the power of the second number.  The second number should default to 2 if nothing else is given."
   ]
  },
  {
   "cell_type": "code",
   "execution_count": null,
   "metadata": {},
   "outputs": [],
   "source": [
    "def my_power():\n",
    "    x = input(\"enter the first number: \")\n",
    "    y = input(\"Enter the second number: \")\n",
    "    if(y = none):\n",
    "        number = x ** 2\n",
    "    else:\n",
    "        number = x**y\n",
    "    print(number)\n",
    "    \n",
    "my_power()    "
   ]
  },
  {
   "cell_type": "markdown",
   "metadata": {},
   "source": [
    "### Write a function, called my_sum, which adds an set (of unknown lenght) of number together.\n",
    "\n",
    "Don't use the built-in sum function or numpy's sum funciton"
   ]
  },
  {
   "cell_type": "code",
   "execution_count": null,
   "metadata": {},
   "outputs": [],
   "source": [
    "\n"
   ]
  },
  {
   "cell_type": "markdown",
   "metadata": {},
   "source": [
    "### Create a function, basic_calc, which takes two values, a and b, and potentially multiple operations as a key words (add, subtract, multiply, divide).  It then returns a list of the result of the two value and the various operations\n",
    "\n",
    "For example, given the function call\n",
    "\n",
    "basic_calc(5,9,'subtract')\n",
    "\n",
    "would return -4"
   ]
  },
  {
   "cell_type": "markdown",
   "metadata": {},
   "source": [
    "The function call\n",
    "\n",
    "basic_calc(13.0,7.0,'add','subtract','divide','add')\n",
    "\n",
    "would return [20.0, 5.0, 1.857, 20.0]"
   ]
  },
  {
   "cell_type": "code",
   "execution_count": null,
   "metadata": {},
   "outputs": [],
   "source": [
    "def basic_calc(a, b):\n",
    "    if 'subract':\n",
    "        a-b\n",
    "    if 'add':\n",
    "        a+b\n",
    "    if 'divide':\n",
    "        a/b\n",
    "    if 'multiply':\n",
    "        a*b\n",
    "        \n",
    "a = input(\"enter the first number: \")\n",
    "a = float(a)\n",
    "b = input(\"enter the second number: \")\n",
    "b = float(b)"
   ]
  }
 ],
 "metadata": {
  "anaconda-cloud": {},
  "kernelspec": {
   "display_name": "Python 3",
   "language": "python",
   "name": "python3"
  },
  "language_info": {
   "codemirror_mode": {
    "name": "ipython",
    "version": 3
   },
   "file_extension": ".py",
   "mimetype": "text/x-python",
   "name": "python",
   "nbconvert_exporter": "python",
   "pygments_lexer": "ipython3",
   "version": "3.7.4"
  }
 },
 "nbformat": 4,
 "nbformat_minor": 2
}
