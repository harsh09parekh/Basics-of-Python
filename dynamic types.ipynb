
 "# Homework  Dynamic Typing "

    "### What type (int, string, etc) of object is variable `a` pointing at at the end of the code?  Why is this possibe?"

    "## you can delete a variable from the memory using the `del` keyword followed by the variable name\n",
    "\n",
    "as an example `del a` will delete variable `a` from the memory"
    "a = 54\n",
    "a='test'\n",
    "a=5.4"
    'a' will be a float as it will store the last value mentioed in the code.
     in the below example, the last value is 5.4 which is a float.

    If we del the varialbe a that the end of the code. it will show an error as the a variable is not present irrespective of its value.

    ###Answer


    "### What is the fewest number of variables I need to delete to free up memory?"
    "a=b=4\n",
    "\n",
    "del b"
    Either deleting a or b can free up the memory because both have same values which are not necessary.
    ###Answer


    "### In your own words, why b is not equal to 'string'"
    "a = 'test'\n",
    "b = a\n",
    "\n",
    "a = 'string'\n",
    "\n",
    "print(b)"
   This is beause the value of a is stored to the value of b before assigning it as a 'string'.
   Hence the value of b will remain as the previous value of a ie 'test'