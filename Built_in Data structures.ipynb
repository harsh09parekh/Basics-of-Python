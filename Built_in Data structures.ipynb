{
 "cells": [
  {
   "cell_type": "code",
   "execution_count": 3,
   "metadata": {
    "collapsed": false
   },
   "outputs": [
    {
     "name": "stdout",
     "output_type": "stream",
     "text": [
      "[2, 2.5, 'String', True]\n"
     ]
    }
   ],
   "source": [
    "## Create a list containing 4 different types of elements\n",
    "list = [2, 2.5, 'String', True]\n",
    "print(list)"
   ]
  },
  {
   "cell_type": "code",
   "execution_count": 9,
   "metadata": {
    "collapsed": false
   },
   "outputs": [
    {
     "name": "stdout",
     "output_type": "stream",
     "text": [
      "['Harry Potter and the Prisoner of Azkaban']\n"
     ]
    }
   ],
   "source": [
    "## Create a list of all the characters in the provided sting\n",
    "string_a = 'Harry Potter and the Prisoner of Azkaban'\n",
    "list = [string_a]\n",
    "print(list)"
   ]
  },
  {
   "cell_type": "code",
   "execution_count": 10,
   "metadata": {
    "collapsed": false
   },
   "outputs": [
    {
     "name": "stdout",
     "output_type": "stream",
     "text": [
      "[[1, 1, 1], [1, 1, 1], [1, 1, 1]]\n"
     ]
    }
   ],
   "source": [
    "### Create a list of 3 lists, each with containting three 1s\n",
    "list = [[1, 1, 1], [1, 1, 1], [1, 1, 1]]\n",
    "print(list)"
   ]
  },
  {
   "cell_type": "code",
   "execution_count": 23,
   "metadata": {
    "collapsed": false
   },
   "outputs": [
    {
     "name": "stdout",
     "output_type": "stream",
     "text": [
      "['Gryffindor', 'Hufflepuff']\n"
     ]
    }
   ],
   "source": [
    "## What is the first and third elements of the provided list\"\n",
    "houses = ['Gryffindor','Ravenclaw','Hufflepuff','Slytherin']\n",
    "print(houses[0::2])\n"
   ]
  },
  {
   "cell_type": "code",
   "execution_count": 19,
   "metadata": {
    "collapsed": false
   },
   "outputs": [
    {
     "name": "stdout",
     "output_type": "stream",
     "text": [
      "['Hufflepuff', 'Slytherin']\n"
     ]
    }
   ],
   "source": [
    "### Print out a list of the last two elements of the provided list\"\n",
    "houses = ['Gryffindor','Ravenclaw','Hufflepuff','Slytherin']\n",
    "print(houses[-2:])"
   ]
  },
  {
   "cell_type": "code",
   "execution_count": 31,
   "metadata": {
    "collapsed": false
   },
   "outputs": [
    {
     "name": "stdout",
     "output_type": "stream",
     "text": [
      "['Slytherin', 'Hufflepuff', 'Ravenclaw', 'Gryffindor']\n"
     ]
    }
   ],
   "source": [
    "## Print the provided list in reverse order\"\n",
    "houses = ['Gryffindor','Ravenclaw','Hufflepuff','Slytherin']\n",
    "houses.reverse()\n",
    "print(houses)"
   ]
  },
  {
   "cell_type": "code",
   "execution_count": 33,
   "metadata": {
    "collapsed": false
   },
   "outputs": [
    {
     "name": "stdout",
     "output_type": "stream",
     "text": [
      "4\n"
     ]
    }
   ],
   "source": [
    "# What is the length of the provided list\"\n",
    "houses = ['Gryffindor','Ravenclaw','Hufflepuff','Slytherin']\n",
    "print(len(houses))"
   ]
  },
  {
   "cell_type": "code",
   "execution_count": 34,
   "metadata": {
    "collapsed": false
   },
   "outputs": [
    {
     "name": "stdout",
     "output_type": "stream",
     "text": [
      "[2, 3, 5, 7, 11, 13, 17, 19, 23, 29, 31, 37, 41, 43, 47, 53, 59, 61, 67, 71, 73, 79, 83, 89, 97, 101]\n"
     ]
    }
   ],
   "source": [
    "# Concatenate the following two lists\"\n",
    "list_a = [2, 3, 5, 7, 11, 13, 17, 19, 23, 29, 31, 37, 41, 43, 47]\n",
    "list_b = [53, 59, 61, 67, 71, 73, 79, 83, 89, 97, 101]\n",
    "list_c = list_a + list_b\n",
    "print(list_c)"
   ]
  },
  {
   "cell_type": "code",
   "execution_count": 35,
   "metadata": {
    "collapsed": false
   },
   "outputs": [
    {
     "name": "stdout",
     "output_type": "stream",
     "text": [
      "['Gryffindor', 'Ravenclaw', 'Hufflepuff', 'Slytherin', 'Gryffindor', 'Ravenclaw', 'Hufflepuff', 'Slytherin', 'Gryffindor', 'Ravenclaw', 'Hufflepuff', 'Slytherin', 'Gryffindor', 'Ravenclaw', 'Hufflepuff', 'Slytherin']\n"
     ]
    }
   ],
   "source": [
    "# Make a list with the following list values repeated 4 time\"\n",
    "houses = ['Gryffindor','Ravenclaw','Hufflepuff','Slytherin']\n",
    "houses1 = houses * 4\n",
    "print(houses1)"
   ]
  },
  {
   "cell_type": "code",
   "execution_count": 38,
   "metadata": {
    "collapsed": false
   },
   "outputs": [
    {
     "name": "stdout",
     "output_type": "stream",
     "text": [
      "20\n"
     ]
    }
   ],
   "source": [
    "# What is the index of 73 in the provided list\"\n",
    "primes = [2, 3, 5, 7, 11, 13, 17, 19, 23, 29, 31, 37, 41, 43, 47, 53, 59, 61, 67, 71, 73, 79, 83, 89, 97, 101]\n",
    "x = primes.index(73)\n",
    "print(x)"
   ]
  },
  {
   "cell_type": "code",
   "execution_count": 39,
   "metadata": {
    "collapsed": false
   },
   "outputs": [
    {
     "ename": "ValueError",
     "evalue": "42 is not in list",
     "output_type": "error",
     "traceback": [
      "\u001b[0;31m---------------------------------------------------------------------------\u001b[0m",
      "\u001b[0;31mValueError\u001b[0m                                Traceback (most recent call last)",
      "\u001b[0;32m<ipython-input-39-db6376341631>\u001b[0m in \u001b[0;36m<module>\u001b[0;34m()\u001b[0m\n\u001b[1;32m      1\u001b[0m \u001b[1;31m# Is 42 in the provided list?\"\u001b[0m\u001b[1;33m\u001b[0m\u001b[1;33m\u001b[0m\u001b[0m\n\u001b[1;32m      2\u001b[0m \u001b[0mprimes\u001b[0m \u001b[1;33m=\u001b[0m \u001b[1;33m[\u001b[0m\u001b[1;36m2\u001b[0m\u001b[1;33m,\u001b[0m \u001b[1;36m3\u001b[0m\u001b[1;33m,\u001b[0m \u001b[1;36m5\u001b[0m\u001b[1;33m,\u001b[0m \u001b[1;36m7\u001b[0m\u001b[1;33m,\u001b[0m \u001b[1;36m11\u001b[0m\u001b[1;33m,\u001b[0m \u001b[1;36m13\u001b[0m\u001b[1;33m,\u001b[0m \u001b[1;36m17\u001b[0m\u001b[1;33m,\u001b[0m \u001b[1;36m19\u001b[0m\u001b[1;33m,\u001b[0m \u001b[1;36m23\u001b[0m\u001b[1;33m,\u001b[0m \u001b[1;36m29\u001b[0m\u001b[1;33m,\u001b[0m \u001b[1;36m31\u001b[0m\u001b[1;33m,\u001b[0m \u001b[1;36m37\u001b[0m\u001b[1;33m,\u001b[0m \u001b[1;36m41\u001b[0m\u001b[1;33m,\u001b[0m \u001b[1;36m43\u001b[0m\u001b[1;33m,\u001b[0m \u001b[1;36m47\u001b[0m\u001b[1;33m,\u001b[0m \u001b[1;36m53\u001b[0m\u001b[1;33m,\u001b[0m \u001b[1;36m59\u001b[0m\u001b[1;33m,\u001b[0m \u001b[1;36m61\u001b[0m\u001b[1;33m,\u001b[0m \u001b[1;36m67\u001b[0m\u001b[1;33m,\u001b[0m \u001b[1;36m71\u001b[0m\u001b[1;33m,\u001b[0m \u001b[1;36m73\u001b[0m\u001b[1;33m,\u001b[0m \u001b[1;36m79\u001b[0m\u001b[1;33m,\u001b[0m \u001b[1;36m83\u001b[0m\u001b[1;33m,\u001b[0m \u001b[1;36m89\u001b[0m\u001b[1;33m,\u001b[0m \u001b[1;36m97\u001b[0m\u001b[1;33m,\u001b[0m \u001b[1;36m101\u001b[0m\u001b[1;33m]\u001b[0m\u001b[1;33m\u001b[0m\u001b[0m\n\u001b[0;32m----> 3\u001b[0;31m \u001b[0mindex\u001b[0m \u001b[1;33m=\u001b[0m \u001b[0mprimes\u001b[0m\u001b[1;33m.\u001b[0m\u001b[0mindex\u001b[0m\u001b[1;33m(\u001b[0m\u001b[1;36m42\u001b[0m\u001b[1;33m)\u001b[0m\u001b[1;33m\u001b[0m\u001b[0m\n\u001b[0m\u001b[1;32m      4\u001b[0m \u001b[0mprint\u001b[0m\u001b[1;33m(\u001b[0m\u001b[0mindex\u001b[0m\u001b[1;33m)\u001b[0m\u001b[1;33m\u001b[0m\u001b[0m\n",
      "\u001b[0;31mValueError\u001b[0m: 42 is not in list"
     ]
    }
   ],
   "source": [
    "# Is 42 in the provided list?\"\n",
    "primes = [2, 3, 5, 7, 11, 13, 17, 19, 23, 29, 31, 37, 41, 43, 47, 53, 59, 61, 67, 71, 73, 79, 83, 89, 97, 101]\n",
    "index = primes.index(42)\n",
    "print(index)"
   ]
  },
  {
   "cell_type": "code",
   "execution_count": 40,
   "metadata": {
    "collapsed": false
   },
   "outputs": [
    {
     "name": "stdout",
     "output_type": "stream",
     "text": [
      "[2, 3, 5, 7, 11, 13, 17, 19, 23, 29, 31, 37, 41, 43, 47, 53, 59, 61, 67, 71, 73, 79, 83, 89, 97, 101, 103]\n"
     ]
    }
   ],
   "source": [
    "# Add the next prime number, 103, to the provided list\"\n",
    "primes = [2, 3, 5, 7, 11, 13, 17, 19, 23, 29, 31, 37, 41, 43, 47, 53, 59, 61, 67, 71, 73, 79, 83, 89, 97, 101]\n",
    "primes.append(103)\n",
    "print(primes)"
   ]
  },
  {
   "cell_type": "code",
   "execution_count": 41,
   "metadata": {
    "collapsed": false
   },
   "outputs": [
    {
     "name": "stdout",
     "output_type": "stream",
     "text": [
      "[2, 3, 5, 7, 11, 13, 17, 19, 23, 29, 31, 37, 41, 43, 47, 53, 59, 61, 67, 71, 73, 79, 83, 89, 97]\n"
     ]
    }
   ],
   "source": [
    "# Remove the last prime number in the list\"\n",
    "primes = [2, 3, 5, 7, 11, 13, 17, 19, 23, 29, 31, 37, 41, 43, 47, 53, 59, 61, 67, 71, 73, 79, 83, 89, 97, 101]\n",
    "primes.pop()\n",
    "print(primes)"
   ]
  },
  {
   "cell_type": "code",
   "execution_count": 45,
   "metadata": {
    "collapsed": false
   },
   "outputs": [
    {
     "name": "stdout",
     "output_type": "stream",
     "text": [
      "[2, 3, 5, 7, 11, 13, 17, 19, 23, 29, 31, 37, 41, 42, 43, 47, 53, 59, 61, 67, 71, 73, 79, 83, 89, 97, 101]\n"
     ]
    }
   ],
   "source": [
    "# Insert 42 into the the appropriate place to maintain order in the list\"\n",
    "primes = [2, 3, 5, 7, 11, 13, 17, 19, 23, 29, 31, 37, 41, 43, 47, 53, 59, 61, 67, 71, 73, 79, 83, 89, 97, 101]\n",
    "def insert(primes, n):\n",
    "    for i in range(len(primes)):\n",
    "        if primes[i] > n:\n",
    "            index = i\n",
    "            break\n",
    "    \n",
    "    primes = primes[:i] + [n] + primes[i:]\n",
    "    return primes\n",
    "\n",
    "n = 42\n",
    "print(insert(primes, n))"
   ]
  },
  {
   "cell_type": "code",
   "execution_count": 56,
   "metadata": {
    "collapsed": false
   },
   "outputs": [
    {
     "name": "stdout",
     "output_type": "stream",
     "text": [
      "2\n"
     ]
    }
   ],
   "source": [
    "# Howmany 'fish' are in the provided list\"\n",
    "seuss = ['one', 'fist', 'two', 'fish', 'red', 'fist', 'blue', 'fish']\n",
    "def countx(seuss, x):\n",
    "    return seuss.count(x)\n",
    "\n",
    "x = 'fish'\n",
    "print(countx(seuss, x))\n",
    "      \n",
    "        "
   ]
  },
  {
   "cell_type": "code",
   "execution_count": 59,
   "metadata": {
    "collapsed": false
   },
   "outputs": [
    {
     "name": "stdout",
     "output_type": "stream",
     "text": [
      "[0, 1, 2, 3, 4, 5, 6, 7, 8, 9]\n"
     ]
    }
   ],
   "source": [
    "# Sort the provided list in ascending order\"\n",
    "digits = [8,4,1,3,0,2,7,6,5,9]\n",
    "digits.sort()\n",
    "print(digits)"
   ]
  },
  {
   "cell_type": "code",
   "execution_count": 61,
   "metadata": {
    "collapsed": false
   },
   "outputs": [
    {
     "name": "stdout",
     "output_type": "stream",
     "text": [
      "[9, 8, 7, 6, 5, 4, 3, 2, 1, 0]\n"
     ]
    }
   ],
   "source": [
    "# Sort the provided list in decending order\"\n",
    "digits = [8,4,1,3,0,2,7,6,5,9]\n",
    "digits.sort()\n",
    "digits.reverse()\n",
    "print(digits)"
   ]
  },
  {
   "cell_type": "code",
   "execution_count": 62,
   "metadata": {
    "collapsed": false
   },
   "outputs": [
    {
     "name": "stdout",
     "output_type": "stream",
     "text": [
      "['fish', 'blue', 'fist', 'red', 'fish', 'two', 'fist', 'one']\n"
     ]
    }
   ],
   "source": [
    "# Reverse the provided list \"\n",
    "seuss = ['one', 'fist', 'two', 'fish', 'red', 'fist', 'blue', 'fish']\n",
    "seuss.reverse()\n",
    "print(seuss)"
   ]
  },
  {
   "cell_type": "code",
   "execution_count": 65,
   "metadata": {
    "collapsed": false
   },
   "outputs": [
    {
     "name": "stdout",
     "output_type": "stream",
     "text": [
      "['Ravenclaw', 'Hufflepuff', 'Slytherin']\n"
     ]
    }
   ],
   "source": [
    "# Remove Gryffindor from the provided list and print the result\"\n",
    "houses = ['Gryffind\n",
    "          or','Ravenclaw','Hufflepuff','Slytherin']\n",
    "houses.remove('Gryffindor')\n",
    "print(houses)"
   ]
  },
  {
   "cell_type": "code",
   "execution_count": null,
   "metadata": {
    "collapsed": false
   },
   "outputs": [],
   "source": [
    "# Create a 3x3 matrix using lists of lists composed entierly of 1s\n",
    "rows, cols = (3, 3)\n",
    "arr = [[1]*cols]*rows\n",
    "print(arr)\n",
    "i = 0\n",
    "while(i<2):\n",
    "    print(arr)\n",
    "    i += 1\n",
    "    \n",
    "    \n",
    "        "
   ]
  },
  {
   "cell_type": "code",
   "execution_count": null,
   "metadata": {
    "collapsed": true
   },
   "outputs": [],
   "source": [
    "# Create a list with your name, major, and graduating year\n",
    "name = input('your name: ')\n",
    "major = input('your majore: ')\n",
    "grad_year = input('your year of graduation: ')\n",
    "list = [name, major, grad_year]\n",
    "print(list)"
   ]
  }
 ],
 "metadata": {
  "anaconda-cloud": {},
  "kernelspec": {
   "display_name": "Python [default]",
   "language": "python",
   "name": "python3"
  },
  "language_info": {
   "codemirror_mode": {
    "name": "ipython",
    "version": 3
   },
   "file_extension": ".py",
   "mimetype": "text/x-python",
   "name": "python",
   "nbconvert_exporter": "python",
   "pygments_lexer": "ipython3",
   "version": "3.5.2"
  }
 },
 "nbformat": 4,
 "nbformat_minor": 1
}
